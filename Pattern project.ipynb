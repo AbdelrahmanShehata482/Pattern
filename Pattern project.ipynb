{
 "cells": [
  {
   "cell_type": "markdown",
   "id": "82f37ba3",
   "metadata": {},
   "source": [
    "## In this notebook we'll be using knn and pca in analyzing and building a model that recognizes faces.\n",
    "##### So , click where you want to go!\n",
    "<ul>\n",
    "    <li><a href=\"#dataset\">Dataset Exploration</a></li>\n",
    "    <li><a href=\"#splitting\">Dataset splitting</a></li>\n",
    "    <li><a href=\"#pca\">PCA algorithm</a></li>\n",
    "    <li><a href=\"#KNN\">KNN classifier</a></li>\n",
    "    <li><a href=\"#bonus\">Bonus with Naive Bayes</a></li>\n",
    "    <li><a href=\"#pca2\">PCA '2'</a></li>\n",
    "</ul>"
   ]
  },
  {
   "cell_type": "code",
   "execution_count": 1,
   "id": "7b1b11f3",
   "metadata": {},
   "outputs": [],
   "source": [
    "import numpy as np # linear algebra\n",
    "import pandas as pd # data processing, CSV file I/O (e.g. pd.read_csv)\n",
    "import os\n",
    "import cv2\n",
    "import matplotlib.pyplot as plt\n",
    "from sklearn.model_selection import train_test_split\n",
    "from sklearn.metrics import accuracy_score\n",
    "from numpy.linalg import eigh\n",
    "from sklearn.neighbors import KNeighborsClassifier\n",
    "from sklearn import metrics\n",
    "import matplotlib.image as mpimg\n",
    "from sklearn.naive_bayes import GaussianNB"
   ]
  },
  {
   "cell_type": "markdown",
   "id": "e0d28c5e",
   "metadata": {},
   "source": [
    "<a id = 'dataset' ></a>\n",
    "### Importing the images, exploring them and generating the data matrix and the label vector!"
   ]
  },
  {
   "cell_type": "code",
   "execution_count": 2,
   "id": "68f9892f",
   "metadata": {},
   "outputs": [],
   "source": [
    "def loadImages(folder, y):\n",
    "    images = []\n",
    "    labels = []\n",
    "    pics = os.listdir(folder)\n",
    "    for pic in pics:\n",
    "        img = cv2.imread(os.path.join(folder,pic))\n",
    "        img = cv2.cvtColor(img, cv2.COLOR_BGR2GRAY) # transform to grayscale\n",
    "        if img is not None:\n",
    "            images.append(img)\n",
    "            labels.append(y)\n",
    "    return images, labels"
   ]
  },
  {
   "cell_type": "code",
   "execution_count": 3,
   "id": "b5500e9f",
   "metadata": {},
   "outputs": [],
   "source": [
    "def load_images_from_folder(folder):\n",
    "    images = []\n",
    "    labels = []\n",
    "    dirs = os.listdir(folder)\n",
    "    \n",
    "    for directory in dirs:\n",
    "        y = directory[1:]\n",
    "        path = os.path.join(folder, directory)\n",
    "        i, l = loadImages(path, y)\n",
    "        images = images + i \n",
    "        labels = labels + l\n",
    "    images = np.array(images)\n",
    "    images = images.reshape(images.shape[0],images.shape[1] * images.shape[2])\n",
    "    \n",
    "    labels = np.array(labels)\n",
    "    return images, labels\n"
   ]
  },
  {
   "cell_type": "code",
   "execution_count": 4,
   "id": "b22639a1",
   "metadata": {
    "scrolled": true
   },
   "outputs": [],
   "source": [
    "folder = 'C:\\\\Users\\\\AL-alamia\\\\Desktop\\\\Pattern_Project\\\\images'\n",
    "X, y = load_images_from_folder(folder)"
   ]
  },
  {
   "cell_type": "markdown",
   "id": "89a7d4f8",
   "metadata": {},
   "source": [
    "<a id = 'splitting' ></a>\n",
    "### Split the Dataset into Training and Test sets"
   ]
  },
  {
   "cell_type": "code",
   "execution_count": 5,
   "id": "4b719691",
   "metadata": {},
   "outputs": [],
   "source": [
    "test_Datamatrix = []\n",
    "test_Labelmatrix = []\n",
    "train_Datamatrix = []\n",
    "train_Labelmatrix = []\n",
    "\n",
    "for i in range(400):\n",
    "    if(i % 2 == 0):\n",
    "        test_Datamatrix.append(X[i])\n",
    "        test_Labelmatrix.append(y[i])\n",
    "    else:\n",
    "        train_Datamatrix.append(X[i])\n",
    "        train_Labelmatrix.append(y[i])"
   ]
  },
  {
   "cell_type": "markdown",
   "id": "b23ce9bc",
   "metadata": {},
   "source": [
    "<a id = 'KNN' ></a>\n",
    "### Classifier Tuning"
   ]
  },
  {
   "cell_type": "code",
   "execution_count": 6,
   "id": "69ce374c",
   "metadata": {},
   "outputs": [],
   "source": [
    "def KNNClassifier(train_data,train_label,test_data,test_label):\n",
    "    neighbours = [1,3,5,7]\n",
    "    accuracy_matrix = []\n",
    "    for i,neighbour in zip(range(len(neighbours)),neighbours):\n",
    "        print(\"When Neighbour = \" + \"[\" + str(neighbour) + \"]\")\n",
    "        clf = KNeighborsClassifier(n_neighbors = neighbour, weights = 'distance') \n",
    "        clf.fit(train_data.T, train_label) \n",
    "        output = clf.predict(test_data.T)\n",
    "        accuracy_matrix.append(accuracy_score(output,test_label)) \n",
    "        print(\"Accuracy score is: \" + str(accuracy_matrix[i]))\n",
    "        count = 0\n",
    "        for i in range(len(output)):\n",
    "            print(\"[\" + str(i) + \"]\" + \"Classified as: \"+ str(output[i]) +\" Actual is: \"+ str(test_Labelmatrix[i]))\n",
    "            if((output[i]) != (test_Labelmatrix[i])):\n",
    "                print(\"Misclassified\")\n",
    "                count+=1\n",
    "    print(\"Number of Misclassified is \" + str(count))\n",
    "    print(\"=========================================\")\n",
    "    plt.plot(accuracy_matrix,neighbours)\n",
    "    plt.show()"
   ]
  },
  {
   "cell_type": "markdown",
   "id": "8bf9a529",
   "metadata": {},
   "source": [
    "<a id = 'pca' ></a>\n",
    "### Classification using PCA"
   ]
  },
  {
   "cell_type": "code",
   "execution_count": 7,
   "id": "65ac0aa4",
   "metadata": {},
   "outputs": [],
   "source": [
    "def PCA():\n",
    "    mean = np.mean(train_Datamatrix,axis = 0)\n",
    "    Z_Matrix = train_Datamatrix - mean\n",
    "    Z_Matrix_Test = test_Datamatrix - np.mean(test_Datamatrix, axis = 0)\n",
    "    Cov_Matrix = np.cov(Z_Matrix,rowvar = 0 , bias = 1)\n",
    "    E_Values , E_Vectors = np.linalg.eigh(Cov_Matrix)\n",
    "    idx = E_Values.argsort()[::-1]\n",
    "    E_Values_Sorted = E_Values[idx]\n",
    "    E_Vectors_Sorted = E_Vectors[:,idx]\n",
    "    r_values = [0.8,0.85,0.9,0.95]\n",
    "    for r in r_values:\n",
    "        r_value = FTV(0,r,E_Values_Sorted)\n",
    "        New_Matrix = E_Vectors_Sorted[: , 0 : r_value + 1]\n",
    "        U_Train = np.dot(New_Matrix.T , Z_Matrix.T)\n",
    "        U_Test = np.dot(New_Matrix.T , Z_Matrix_Test.T)\n",
    "        print(\"For r: \" + str(r))\n",
    "        KNNClassifier(U_Train,train_Labelmatrix,U_Test,test_Labelmatrix)"
   ]
  },
  {
   "cell_type": "code",
   "execution_count": 8,
   "id": "126b3825",
   "metadata": {},
   "outputs": [],
   "source": [
    "def FTV (r,alpha,E_Values_Sorted):\n",
    "    for i in range(r,10304):\n",
    "        B = float(sum(E_Values_Sorted))\n",
    "        T = float(sum(E_Values_Sorted[:i]))\n",
    "        if(T/B >= alpha):\n",
    "            return i"
   ]
  },
  {
   "cell_type": "markdown",
   "id": "b80fe64e",
   "metadata": {},
   "source": [
    "###  PCA for KNN classifier"
   ]
  },
  {
   "cell_type": "code",
   "execution_count": null,
   "id": "afed1b1f",
   "metadata": {},
   "outputs": [],
   "source": [
    "PCA()"
   ]
  },
  {
   "cell_type": "markdown",
   "id": "1efc2a9e",
   "metadata": {},
   "source": [
    "<a id = 'bonus' ></a>\n",
    "# Bonus !!!"
   ]
  },
  {
   "cell_type": "code",
   "execution_count": null,
   "id": "e610b524",
   "metadata": {},
   "outputs": [],
   "source": [
    "def NBClassifier(train_data,train_label,test_data,test_label):\n",
    "    accuracy_matrix = []\n",
    "    nb = GaussianNB()\n",
    "    nb.fit(train_data.T, train_label) \n",
    "    output = nb.predict(test_data.T)\n",
    "    accuracy_matrix.append(accuracy_score(output,test_label))\n",
    "    print(\"Accuracy score is: \" + str(accuracy_matrix))\n",
    "    count = 0\n",
    "    for i in range(len(output)):\n",
    "        print(\"[\" + str(i) + \"]\" + \"Classified as: \"+ str(output[i]) +\" Actual is: \"+ str(test_Labelmatrix2[i]))\n",
    "        if((output[i]) != (test_Labelmatrix2[i])):\n",
    "            print(\"Misclassified\")\n",
    "            count+=1\n",
    "    print(\"Number of Misclassified is \" + str(count))\n",
    "    print(\"=========================================\")"
   ]
  },
  {
   "cell_type": "code",
   "execution_count": null,
   "id": "29e455c2",
   "metadata": {},
   "outputs": [],
   "source": [
    "def PCA2():    # Same pca algorithm but for naive bayes classifier\n",
    "    mean = np.mean(train_Datamatrix2,axis = 0)\n",
    "    Z_Matrix = train_Datamatrix2 - mean\n",
    "    Z_Matrix_Test = test_Datamatrix2 - np.mean(test_Datamatrix2, axis = 0)\n",
    "    Cov_Matrix = np.cov(Z_Matrix,rowvar = 0 , bias = 1)\n",
    "    E_Values , E_Vectors = np.linalg.eigh(Cov_Matrix)\n",
    "    idx = E_Values.argsort()[::-1]\n",
    "    E_Values_Sorted = E_Values[idx]\n",
    "    E_Vectors_Sorted = E_Vectors[:,idx]\n",
    "    r_values = [0.8,0.85,0.9,0.95]\n",
    "    for r in r_values:\n",
    "        r_value = FTV(0,r,E_Values_Sorted)\n",
    "        New_Matrix = E_Vectors_Sorted[: , 0 : r_value + 1]\n",
    "        U_Train = np.dot(New_Matrix.T , Z_Matrix.T)\n",
    "        U_Test = np.dot(New_Matrix.T , Z_Matrix_Test.T)\n",
    "        print(\"For r: \" + str(r))\n",
    "        NBClassifier(U_Train,train_Labelmatrix2,U_Test,test_Labelmatrix2)"
   ]
  },
  {
   "cell_type": "code",
   "execution_count": null,
   "id": "71b38982",
   "metadata": {},
   "outputs": [],
   "source": [
    "# Initializing label matrices\n",
    "test_Labelmatrix2 = []\n",
    "train_Labelmatrix2 = []\n",
    "test_Datamatrix2 = []\n",
    "train_Datamatrix2 = []\n",
    "for i in range(0,400):\n",
    "    if (i % 2 == 0 or i % 3 == 0):\n",
    "        test_Labelmatrix2.append(y[i])\n",
    "        test_Datamatrix2.append(X[i])\n",
    "    else:  \n",
    "        train_Labelmatrix2.append(y[i])\n",
    "        train_Datamatrix2.append(X[i])"
   ]
  },
  {
   "cell_type": "markdown",
   "id": "aeab2b93",
   "metadata": {},
   "source": [
    "<a id = 'pca2' ></a>\n",
    "### Running pca algorithm for naive bayes classifier!"
   ]
  },
  {
   "cell_type": "code",
   "execution_count": null,
   "id": "eb5f1de5",
   "metadata": {},
   "outputs": [],
   "source": [
    "PCA2()"
   ]
  },
  {
   "cell_type": "markdown",
   "id": "40da92cc",
   "metadata": {},
   "source": [
    "### All the results are in the report!"
   ]
  }
 ],
 "metadata": {
  "kernelspec": {
   "display_name": "Python 3 (ipykernel)",
   "language": "python",
   "name": "python3"
  },
  "language_info": {
   "codemirror_mode": {
    "name": "ipython",
    "version": 3
   },
   "file_extension": ".py",
   "mimetype": "text/x-python",
   "name": "python",
   "nbconvert_exporter": "python",
   "pygments_lexer": "ipython3",
   "version": "3.9.7"
  }
 },
 "nbformat": 4,
 "nbformat_minor": 5
}
